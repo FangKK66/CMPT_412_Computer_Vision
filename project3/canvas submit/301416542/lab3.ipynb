{
  "cells": [
    {
      "cell_type": "markdown",
      "metadata": {
        "id": "QHnVupBBn9eR"
      },
      "source": [
        "\n",
        "# Assignment 3\n",
        "\n",
        "This is a template notebook for Assignment 3.\n"
      ]
    },
    {
      "cell_type": "markdown",
      "metadata": {
        "id": "vM54r6jlKTII"
      },
      "source": [
        "## Install dependencies and initialization"
      ]
    },
    {
      "cell_type": "code",
      "execution_count": null,
      "metadata": {
        "id": "9_FzH13EjseR",
        "vscode": {
          "languageId": "python"
        }
      },
      "outputs": [],
      "source": [
        "# The next 8 lines added to be compatible with version changes (2022/10/13).\n",
        "# change cuda to 11.1\n",
        "import os\n",
        "p = os.getenv('PATH')\n",
        "ld = os.getenv('LD_LIBRARY_PATH')\n",
        "os.environ['PATH'] = f\"/usr/local/cuda-11.1/bin:{p}\"\n",
        "os.environ['LD_LIBRARY_PATH'] = f\"/usr/local/cuda-11.1/lib64:{ld}\"\n",
        "# change pytorch to 1.9.0 compiled with cuda 11.1\n",
        "!pip install torch==1.9.0+cu111 torchvision==0.10.0+cu111 -f https://download.pytorch.org/whl/torch_stable.html\n",
        "\n",
        "\n",
        "# install dependencies: \n",
        "!pip install pyyaml==5.1 pycocotools>=2.0.1\n",
        "# !pip install detectron2 -f https://dl.fbaipublicfiles.com/detectron2/wheels/cu101/torch1.6/index.html\n",
        "!pip install detectron2 -f https://dl.fbaipublicfiles.com/detectron2/wheels/cu111/torch1.9/index.html"
      ]
    },
    {
      "cell_type": "code",
      "execution_count": null,
      "metadata": {
        "id": "dqAUb5Y12qXt",
        "vscode": {
          "languageId": "python"
        }
      },
      "outputs": [],
      "source": [
        "!pwd # shows current directory\n",
        "!ls  # shows all files in this directory\n",
        "!nvidia-smi # shows the specs and the current status of the allocated GPU"
      ]
    },
    {
      "cell_type": "code",
      "execution_count": null,
      "metadata": {
        "id": "b-i4hmGYk1dL",
        "vscode": {
          "languageId": "python"
        }
      },
      "outputs": [],
      "source": [
        "# import some common libraries\n",
        "from google.colab.patches import cv2_imshow\n",
        "from sklearn.metrics import jaccard_score\n",
        "from PIL import Image, ImageDraw\n",
        "from tqdm.notebook import tqdm\n",
        "import pandas as pd\n",
        "import numpy as np\n",
        "import datetime\n",
        "import random\n",
        "import json\n",
        "import cv2\n",
        "import csv\n",
        "import os\n",
        "\n",
        "# import some common pytorch utilities\n",
        "from torch.utils.data import Dataset, DataLoader\n",
        "import torchvision.transforms as transforms\n",
        "from torch.autograd import Variable\n",
        "import torch.nn.functional as F\n",
        "import torch.nn as nn\n",
        "import torch\n",
        "\n",
        "# import some common detectron2 utilities\n",
        "import detectron2\n",
        "from detectron2 import model_zoo\n",
        "from detectron2.config import get_cfg\n",
        "from detectron2.structures import BoxMode\n",
        "from detectron2.engine import DefaultTrainer\n",
        "from detectron2.engine import DefaultPredictor\n",
        "from detectron2.utils.logger import setup_logger\n",
        "from detectron2.utils.visualizer import ColorMode\n",
        "from detectron2.utils.visualizer import Visualizer\n",
        "from detectron2.data import build_detection_test_loader\n",
        "from detectron2.data import MetadataCatalog, DatasetCatalog\n",
        "from detectron2.evaluation import COCOEvaluator, inference_on_dataset\n",
        "setup_logger()"
      ]
    },
    {
      "cell_type": "code",
      "execution_count": null,
      "metadata": {
        "id": "tUA_j6AF1L5Y",
        "vscode": {
          "languageId": "python"
        }
      },
      "outputs": [],
      "source": [
        "# Make sure that GPU is available for your notebook. \n",
        "# Otherwise, you need to update the settungs in Runtime -> Change runtime type -> Hardware accelerator\n",
        "torch.cuda.is_available()"
      ]
    },
    {
      "cell_type": "code",
      "execution_count": null,
      "metadata": {
        "id": "ZyAvNCJMmvFF",
        "vscode": {
          "languageId": "python"
        }
      },
      "outputs": [],
      "source": [
        "# You need to mount your google drive in order to load the data:\n",
        "from google.colab import drive\n",
        "drive.mount('/content/drive')\n",
        "# Put all the corresponding data files in a data folder and put the data folder in a same directory with this notebook.\n",
        "# Also create an output directory for your files such as the trained models and the output images."
      ]
    },
    {
      "cell_type": "code",
      "execution_count": null,
      "metadata": {
        "id": "A_Di_fgL4HSv",
        "vscode": {
          "languageId": "python"
        }
      },
      "outputs": [],
      "source": [
        "# Define the location of current directory, which should contain data/train, data/test, and data/train.json.\n",
        "# TODO: approx 1 line\n",
        "BASE_DIR = '/content/drive/My Drive/CMPT_CV_lab3'\n",
        "OUTPUT_DIR = '{}/output'.format(BASE_DIR)\n",
        "os.makedirs(OUTPUT_DIR, exist_ok=True)"
      ]
    },
    {
      "cell_type": "markdown",
      "metadata": {
        "id": "Vk4gID50K03a"
      },
      "source": [
        "## Part 1: Object Detection"
      ]
    },
    {
      "cell_type": "markdown",
      "metadata": {
        "id": "xRV-KFJzlur4"
      },
      "source": [
        "### Data Loader"
      ]
    },
    {
      "cell_type": "code",
      "execution_count": null,
      "metadata": {
        "id": "dq9GY37ml1kr",
        "vscode": {
          "languageId": "python"
        }
      },
      "outputs": [],
      "source": [
        "'''\n",
        "# This function should return a list of data samples in which each sample is a dictionary. \n",
        "# Make sure to select the correct bbox_mode for the data\n",
        "# For the test data, you only have access to the images, therefore, the annotations should be empty.\n",
        "# Other values could be obtained from the image files.\n",
        "# TODO: approx 35 lines\n",
        "'''\n",
        "\n",
        "def get_detection_data(set_name):\n",
        "\n",
        "  data_dirs = '{}/data'.format(BASE_DIR)\n",
        "  dataset = []\n",
        "  curren_img = \"START\"\n",
        "  first_img = True\n",
        "\n",
        "  \n",
        "  if set_name == \"train\":\n",
        "    json_file = os.path.join(data_dirs, \"train.json\")\n",
        "    with open(json_file) as f:\n",
        "          imgs_anns = json.load(f)\n",
        "    objs = []\n",
        "    jsonLen = len(imgs_anns)\n",
        "    for index in range(jsonLen):\n",
        "      value = imgs_anns[index]\n",
        "      if curren_img != value[\"file_name\"]:\n",
        "        if first_img == False:\n",
        "          dataset.append(record)\n",
        "        objs = []\n",
        "        curren_img = value[\"file_name\"]\n",
        "        record = {}\n",
        "        filename = os.path.join('{}/data/train'.format(BASE_DIR), value[\"file_name\"])\n",
        "        height, width = cv2.imread(filename).shape[:2]\n",
        "        record[\"file_name\"] = filename\n",
        "        record[\"image_id\"] = value[\"image_id\"]\n",
        "        record[\"height\"] = height\n",
        "        record[\"width\"] = width\n",
        "        obj = {\n",
        "              \"bbox\": value[\"bbox\"],\n",
        "              \"bbox_mode\": BoxMode.XYWH_ABS,\n",
        "              \"segmentation\": value[\"segmentation\"],\n",
        "              \"category_id\": 0,\n",
        "            }\n",
        "        objs.append(obj)\n",
        "        record[\"annotations\"] = objs\n",
        "        first_img = False\n",
        "\n",
        "      else:\n",
        "        obj = {\n",
        "              \"bbox\": value[\"bbox\"],\n",
        "              \"bbox_mode\": BoxMode.XYWH_ABS,\n",
        "              \"segmentation\": value[\"segmentation\"],\n",
        "              \"category_id\": 0,\n",
        "            }\n",
        "        objs.append(obj)\n",
        "        record[\"annotations\"] = objs\n",
        "        if (index == jsonLen-1):\n",
        "          dataset.append(record)\n",
        "  elif set_name == \"test\":\n",
        "  #else:\n",
        "    for filename in os.listdir('{}/data/test'.format(BASE_DIR)):\n",
        "      record = {}\n",
        "      filePath = os.path.join('{}/data/test'.format(BASE_DIR), filename)\n",
        "      height, width = cv2.imread(filePath).shape[:2]\n",
        "      record[\"file_name\"] = filePath\n",
        "      record[\"height\"] = height\n",
        "      record[\"width\"] = width\n",
        "      record[\"annotations\"] = []\n",
        "      dataset.append(record)\n",
        "  else: #set_name == \"val\"\n",
        "    val_count = 0\n",
        "    json_file = os.path.join(data_dirs, \"train.json\")\n",
        "    with open(json_file) as f:\n",
        "          imgs_anns = json.load(f)\n",
        "    objs = []\n",
        "    jsonLen = len(imgs_anns)\n",
        "    for index in range(jsonLen):\n",
        "      value = imgs_anns[index]\n",
        "      if curren_img != value[\"file_name\"]:\n",
        "        if first_img == False:\n",
        "          dataset.append(record)\n",
        "          val_count = val_count + 1\n",
        "          if val_count == 20:\n",
        "            return dataset\n",
        "        objs = []\n",
        "        curren_img = value[\"file_name\"]\n",
        "        record = {}\n",
        "        filename = os.path.join('{}/data/train'.format(BASE_DIR), value[\"file_name\"])\n",
        "        height, width = cv2.imread(filename).shape[:2]\n",
        "        record[\"file_name\"] = filename\n",
        "        record[\"image_id\"] = value[\"image_id\"]\n",
        "        record[\"height\"] = height\n",
        "        record[\"width\"] = width\n",
        "        obj = {\n",
        "              \"bbox\": value[\"bbox\"],\n",
        "              \"bbox_mode\": BoxMode.XYWH_ABS,\n",
        "              \"segmentation\": value[\"segmentation\"],\n",
        "              \"category_id\": 0,\n",
        "            }\n",
        "        objs.append(obj)\n",
        "        record[\"annotations\"] = objs\n",
        "        first_img = False\n",
        "\n",
        "      else:\n",
        "        obj = {\n",
        "              \"bbox\": value[\"bbox\"],\n",
        "              \"bbox_mode\": BoxMode.XYWH_ABS,\n",
        "              \"segmentation\": value[\"segmentation\"],\n",
        "              \"category_id\": 0,\n",
        "            }\n",
        "        objs.append(obj)\n",
        "        record[\"annotations\"] = objs\n",
        "        if (index == jsonLen-1):\n",
        "          dataset.append(record)\n",
        "\n",
        "  return dataset\n",
        "\n",
        "  "
      ]
    },
    {
      "cell_type": "code",
      "execution_count": null,
      "metadata": {
        "id": "xCH-2mWxDVVu",
        "vscode": {
          "languageId": "python"
        }
      },
      "outputs": [],
      "source": [
        "'''\n",
        "# Remember to add your dataset to DatasetCatalog and MetadataCatalog\n",
        "# Consdier \"data_detection_train\" and \"data_detection_test\" for registration\n",
        "# You can also add an optional \"data_detection_val\" for your validation by spliting the training data\n",
        "# TODO: approx 5 lines\n",
        "'''\n",
        "for d in [\"train\",\"test\",\"val\"]:\n",
        "    DatasetCatalog.register(\"plane_\" + d, lambda d=d: get_detection_data(d))\n",
        "    MetadataCatalog.get(\"plane_\" + d).set(thing_classes=[\"planes\"])\n",
        "plane_metadata = MetadataCatalog.get(\"plane_train\")\n"
      ]
    },
    {
      "cell_type": "code",
      "execution_count": null,
      "metadata": {
        "colab": {
          "background_save": true
        },
        "id": "qNSdXCL_DVAz",
        "vscode": {
          "languageId": "python"
        }
      },
      "outputs": [],
      "source": [
        "'''\n",
        "# Visualize some samples using Visualizer to make sure that the function works correctly\n",
        "# TODO: approx 5 lines\n",
        "'''\n",
        "dataset_dicts = get_detection_data(\"train\")\n",
        "for d in random.sample(dataset_dicts, 3):\n",
        "    img = cv2.imread(d[\"file_name\"])\n",
        "    visualizer = Visualizer(img[:, :, ::-1], metadata=plane_metadata, scale=0.5)\n",
        "    out = visualizer.draw_dataset_dict(d)\n",
        "    cv2_imshow(out.get_image()[:, :, ::-1])\n"
      ]
    },
    {
      "cell_type": "code",
      "execution_count": null,
      "metadata": {
        "id": "7b5x_AptMaQE",
        "vscode": {
          "languageId": "python"
        }
      },
      "outputs": [],
      "source": [
        "clean_DatasetCatalog = 1\n",
        "if clean_DatasetCatalog == 2:\n",
        "  DatasetCatalog.remove(\"plane_train\")\n",
        "  DatasetCatalog.remove(\"plane_test\")\n",
        "  DatasetCatalog.remove(\"plane_val\")"
      ]
    },
    {
      "cell_type": "markdown",
      "metadata": {
        "id": "uM1thbN-ntjI"
      },
      "source": [
        "### Set Configs"
      ]
    },
    {
      "cell_type": "code",
      "execution_count": null,
      "metadata": {
        "id": "HUjkwRsOn1O0",
        "vscode": {
          "languageId": "python"
        }
      },
      "outputs": [],
      "source": [
        "'''\n",
        "# Set the configs for the detection part in here.\n",
        "# TODO: approx 15 lines\n",
        "'''\n",
        "cfg = get_cfg()\n",
        "cfg.OUTPUT_DIR = \"{}/output/\".format(BASE_DIR)\n",
        "\n",
        "##############################Reference of below code from:#########################################################\n",
        "##########https://colab.research.google.com/drive/16jcaJoc6bCFAQ96jDe2HwtXj7BMD_-m5#scrollTo=7unkuuiqLdqd ############# \n",
        "cfg.merge_from_file(model_zoo.get_config_file(\"COCO-Detection/faster_rcnn_R_101_FPN_3x.yaml\"))\n",
        "cfg.DATASETS.TRAIN = (\"plane_train\",)\n",
        "cfg.DATASETS.TEST = ()\n",
        "cfg.DATALOADER.NUM_WORKERS = 2\n",
        "cfg.MODEL.WEIGHTS = model_zoo.get_checkpoint_url(\"COCO-Detection/faster_rcnn_R_101_FPN_3x.yaml\")  # Let training initialize from model zoo\n",
        "cfg.SOLVER.IMS_PER_BATCH = 2  # batch size\n",
        "cfg.SOLVER.BASE_LR = 0.0003  # LR\n",
        "cfg.SOLVER.MAX_ITER = 3000\n",
        "cfg.MODEL.ROI_HEADS.BATCH_SIZE_PER_IMAGE = 512   \n",
        "cfg.MODEL.ROI_HEADS.NUM_CLASSES = 1  # only have plane\n",
        "\n",
        "os.makedirs(cfg.OUTPUT_DIR, exist_ok=True)\n",
        "\n"
      ]
    },
    {
      "cell_type": "markdown",
      "metadata": {
        "id": "P4rql8pNokE4"
      },
      "source": [
        "### Training"
      ]
    },
    {
      "cell_type": "code",
      "execution_count": null,
      "metadata": {
        "id": "7d3KxiHO_0gb",
        "vscode": {
          "languageId": "python"
        }
      },
      "outputs": [],
      "source": [
        "'''\n",
        "# Create a DefaultTrainer using the above config and train the model\n",
        "# TODO: approx 5 lines\n",
        "'''\n",
        "trainer = DefaultTrainer(cfg) \n",
        "trainer.resume_or_load(resume=False)\n",
        "trainer.train()\n"
      ]
    },
    {
      "cell_type": "code",
      "execution_count": null,
      "metadata": {
        "id": "2NhEX73x-w76",
        "vscode": {
          "languageId": "python"
        }
      },
      "outputs": [],
      "source": [
        "%load_ext tensorboard\n",
        "%tensorboard --logdir /content/drive/My\\ Drive/CMPT_CV_lab3/output"
      ]
    },
    {
      "cell_type": "markdown",
      "metadata": {
        "id": "fRVEiICco3SV"
      },
      "source": [
        "### Evaluation and Visualization"
      ]
    },
    {
      "cell_type": "code",
      "execution_count": null,
      "metadata": {
        "id": "VYCIXdMZvDYL",
        "vscode": {
          "languageId": "python"
        }
      },
      "outputs": [],
      "source": [
        "'''\n",
        "# After training the model, you need to update cfg.MODEL.WEIGHTS\n",
        "# Define a DefaultPredictor\n",
        "'''\n",
        "##############################Reference of below code from:#########################################################\n",
        "##########https://colab.research.google.com/drive/16jcaJoc6bCFAQ96jDe2HwtXj7BMD_-m5#scrollTo=7unkuuiqLdqd ############# \n",
        "cfg.MODEL.WEIGHTS = os.path.join(cfg.OUTPUT_DIR, \"model_final.pth\")  # path to the model we just trained\n",
        "cfg.MODEL.ROI_HEADS.SCORE_THRESH_TEST = 0.6   # set a custom testing threshold\n",
        "predictor = DefaultPredictor(cfg)"
      ]
    },
    {
      "cell_type": "code",
      "execution_count": null,
      "metadata": {
        "id": "_hRCf86KGi5v",
        "vscode": {
          "languageId": "python"
        }
      },
      "outputs": [],
      "source": [
        "'''\n",
        "# Visualize the output for 3 random test samples\n",
        "# TODO: approx 10 lines\n",
        "'''\n",
        "\n",
        "from detectron2.utils.visualizer import ColorMode\n",
        "dataset_dicts = get_detection_data(\"test\")\n",
        "for d in random.sample(dataset_dicts, 3):    \n",
        "    im = cv2.imread(d[\"file_name\"])\n",
        "    outputs = predictor(im)  # format is documented at https://detectron2.readthedocs.io/tutorials/models.html#model-output-format\n",
        "    v = Visualizer(im[:, :, ::-1],\n",
        "                   metadata=plane_metadata, \n",
        "                   scale=0.3, \n",
        "                   instance_mode=ColorMode.IMAGE_BW   # remove the colors of unsegmented pixels. This option is only available for segmentation models\n",
        "    )\n",
        "    out = v.draw_instance_predictions(outputs[\"instances\"].to(\"cpu\"))\n",
        "    cv2_imshow(out.get_image()[:, :, ::-1])"
      ]
    },
    {
      "cell_type": "code",
      "execution_count": null,
      "metadata": {
        "id": "D0wRdlcKo6BD",
        "vscode": {
          "languageId": "python"
        }
      },
      "outputs": [],
      "source": [
        "'''\n",
        "# Use COCOEvaluator and build_detection_train_loader\n",
        "# You can save the output predictions using inference_on_dataset\n",
        "# TODO: approx 5 lines\n",
        "'''\n",
        "from detectron2.evaluation import COCOEvaluator, inference_on_dataset\n",
        "from detectron2.data import build_detection_test_loader\n",
        "#evaluator = COCOEvaluator(\"plane_val\", (\"bbox\",\"segm\"),output_dir=\"{}/output/\".format(BASE_DIR))\n",
        "evaluator = COCOEvaluator(\"plane_train\", cfg,False,output_dir=\"{}/output/\".format(BASE_DIR))\n",
        "val_loader = build_detection_test_loader(cfg, \"plane_train\")\n",
        "print(inference_on_dataset(trainer.model, val_loader, evaluator))\n"
      ]
    },
    {
      "cell_type": "markdown",
      "metadata": {
        "id": "EwYvbwcjpKBk"
      },
      "source": [
        "### Improvements\n",
        "\n",
        "For this part, you can bring any improvement which you have by adding new input parameters to the previous functions or defining new functions and variables."
      ]
    },
    {
      "cell_type": "code",
      "execution_count": null,
      "metadata": {
        "id": "xdR6KbCZpOlk",
        "vscode": {
          "languageId": "python"
        }
      },
      "outputs": [],
      "source": [
        "'''\n",
        "# Bring any changes and updates regarding the improvement in here\n",
        "'''\n",
        "#torch.cuda.empty_cache()"
      ]
    },
    {
      "cell_type": "markdown",
      "metadata": {
        "id": "98_M4TooqSs2"
      },
      "source": [
        "## Part 2: Semantic Segmentation"
      ]
    },
    {
      "cell_type": "markdown",
      "metadata": {
        "id": "ByAEsMtIPLrO"
      },
      "source": [
        "### Data Loader"
      ]
    },
    {
      "cell_type": "code",
      "execution_count": null,
      "metadata": {
        "id": "kpNaMpFHOMTJ",
        "vscode": {
          "languageId": "python"
        }
      },
      "outputs": [],
      "source": [
        "#pre-load the data to aviod the time waste caused by meaningless repeat reading img file\n",
        "trainRawData = get_detection_data(\"train\")\n",
        "trainFixedData = []\n",
        "for d in trainRawData:\n",
        "  record = {}\n",
        "  record['file_name'] = d['file_name']\n",
        "  img = cv2.imread(record['file_name'])\n",
        "  objs=[]\n",
        "  for idx in range(len(d['annotations'])):\n",
        "    img_ann = d['annotations'][idx]\n",
        "    img_bbox = img_ann['bbox']\n",
        "    img_seg = img_ann['segmentation']\n",
        "    box_x1,box_y1,box_width,box_high =[int(num) for num in img_bbox]\n",
        "    # box_x1,box_y1: Top Left\n",
        "    # box_x2,box_y2: Bottom right\n",
        "    box_x2 = box_x1 + box_width\n",
        "    box_y2 = box_y1 + box_high\n",
        "\n",
        "    #process segmentation\n",
        "    img_seg_new = []\n",
        "    for i in range(0,len(img_seg[0])-1,2):\n",
        "      img_seg_new.append(img_seg[0][i] - box_x1)\n",
        "      img_seg_new.append(img_seg[0][i+1] - box_y1)\n",
        "      #img_seg_new.append(img_seg[0][i])\n",
        "      #img_seg_new.append(img_seg[0][i+1])\n",
        "    img_seg_new = [img_seg_new]\n",
        "\n",
        "    #crop img [y0:y1, x0:x1]\n",
        "    obj_img = img[box_y1:box_y2, box_x1:box_x2]\n",
        "    obj_img = cv2.resize(obj_img,(128,128),interpolation = cv2.INTER_AREA)\n",
        "\n",
        "    #make mask\n",
        "    \n",
        "    obj_mask = detectron2.utils.visualizer.GenericMask(img_seg_new,box_high,box_width).mask\n",
        "    #obj_mask = detectron2.utils.visualizer.GenericMask(img_ann['segmentation'][0],box_width,box_high).mask\n",
        "    #print(obj_mask)\n",
        "    #print(obj_mask.shape)\n",
        "    obj_mask = cv2.resize(obj_mask,(128,128),interpolation = cv2.INTER_AREA)\n",
        "\n",
        "    obj={\n",
        "        \"img\":obj_img,\n",
        "        \"mask\":obj_mask,\n",
        "    }\n",
        "    objs.append(obj)\n",
        "  record[\"annotations\"]=objs\n",
        "  trainFixedData.append(record)\n",
        "\n",
        "  \n",
        "\n",
        "\n"
      ]
    },
    {
      "cell_type": "code",
      "execution_count": null,
      "metadata": {
        "id": "peQ95zLuIpkk",
        "vscode": {
          "languageId": "python"
        }
      },
      "outputs": [],
      "source": [
        "'''\n",
        "# Write a function that returns the cropped image and corresponding mask regarding the target bounding box\n",
        "# idx is the index of the target bbox in the data\n",
        "# high-resolution image could be passed or could be load from data['file_name']\n",
        "# You can use the mask attribute of detectron2.utils.visualizer.GenericMask \n",
        "#     to convert the segmentation annotations to binary masks\n",
        "# TODO: approx 10 lines\n",
        "'''\n",
        "#trainData = get_detection_data('train')\n",
        "def get_instance_sample(data, idx, img=None):\n",
        "  for index1 in range(len(trainFixedData)):\n",
        "    if trainFixedData[index1][\"file_name\"] == data['file_name']:\n",
        "      obj_img = trainFixedData[index1][\"annotations\"][idx][\"img\"]\n",
        "      obj_mask = trainFixedData[index1][\"annotations\"][idx][\"mask\"]\n",
        "      return obj_img, obj_mask\n",
        "  return obj_img, obj_mask"
      ]
    },
    {
      "cell_type": "code",
      "execution_count": null,
      "metadata": {
        "id": "sxrc9X_pjzj-",
        "vscode": {
          "languageId": "python"
        }
      },
      "outputs": [],
      "source": [
        "'''\n",
        "# We have provided a template data loader for your segmentation training\n",
        "# You need to complete the __getitem__() function before running the code\n",
        "# You may also need to add data augmentation or normalization in here\n",
        "'''\n",
        "\n",
        "class PlaneDataset(Dataset):\n",
        "  def __init__(self, set_name, data_list):\n",
        "    #get: set_name=train，data_list=plane_train\n",
        "      self.transforms = transforms.Compose([\n",
        "          transforms.ToTensor(), # Converting the image to tensor and change the image format (Channels-Last => Channels-First)\n",
        "      ])\n",
        "      self.set_name = set_name\n",
        "      self.data = data_list\n",
        "      self.instance_map = []\n",
        "      for i, d in enumerate(self.data):\n",
        "        for j in range(len(d['annotations'])):\n",
        "          self.instance_map.append([i,j])\n",
        "\n",
        "  '''\n",
        "  # you can change the value of length to a small number like 10 for debugging of your training procedure and overfeating\n",
        "  # make sure to use the correct length for the final training\n",
        "  '''\n",
        "  def __len__(self):\n",
        "      return len(self.instance_map)\n",
        "\n",
        "  def numpy_to_tensor(self, img, mask):\n",
        "    if self.transforms is not None:\n",
        "        img = self.transforms(img)\n",
        "    img = torch.tensor(img, dtype=torch.float)\n",
        "    mask = torch.tensor(mask, dtype=torch.float)\n",
        "    return img, mask\n",
        "\n",
        "  '''\n",
        "  # Complete this part by using get_instance_sample function\n",
        "  # make sure to resize the img and mask to a fixed size (for example 128*128)\n",
        "  # you can use \"interpolate\" function of pytorch or \"numpy.resize\"\n",
        "  # TODO: 5 lines\n",
        "  '''\n",
        "  def __getitem__(self, idx):\n",
        "    if torch.is_tensor(idx):\n",
        "        idx = idx.tolist()\n",
        "    idx = self.instance_map[idx]\n",
        "    data = self.data[idx[0]]\n",
        "    \n",
        "    #instance_map=[[1,1],[1,2],[1,3],....[3,1],[3,2],[3,3]]\n",
        "    index = idx[1]\n",
        "\n",
        "    obj_img, obj_mask = get_instance_sample(data,index)\n",
        "    img,mask = self.numpy_to_tensor(obj_img,obj_mask)\n",
        "    mask = mask.reshape((1,128,128))\n",
        "    return img, mask\n",
        "\n",
        "def get_plane_dataset(set_name='train', batch_size=2):\n",
        "    my_data_list = DatasetCatalog.get(\"plane_{}\".format(set_name))\n",
        "    dataset = PlaneDataset(set_name, my_data_list)\n",
        "    loader = DataLoader(dataset, batch_size=batch_size, num_workers=4,\n",
        "                                              pin_memory=True, shuffle=True)\n",
        "    return loader, dataset"
      ]
    },
    {
      "cell_type": "markdown",
      "metadata": {
        "id": "m6eH3NKaQQfc"
      },
      "source": [
        "### Network"
      ]
    },
    {
      "cell_type": "code",
      "execution_count": null,
      "metadata": {
        "id": "PeqR3s3dSBPN",
        "vscode": {
          "languageId": "python"
        }
      },
      "outputs": [],
      "source": [
        "'''\n",
        "# convolution module as a template layer consists of conv2d layer, batch normalization, and relu activation\n",
        "'''\n",
        "class conv(nn.Module):\n",
        "    def __init__(self, in_ch, out_ch, activation=True):\n",
        "        super(conv, self).__init__()\n",
        "        if(activation):\n",
        "          self.layer = nn.Sequential(\n",
        "             nn.Conv2d(in_ch, out_ch, 3, padding=1),\n",
        "             nn.BatchNorm2d(out_ch),\n",
        "             nn.ReLU(inplace=True)\n",
        "          )\n",
        "        else:\n",
        "          self.layer = nn.Sequential(\n",
        "             nn.Conv2d(in_ch, out_ch, 3, padding=1)  \n",
        "             )\n",
        "\n",
        "    def forward(self, x):\n",
        "        x = self.layer(x)\n",
        "        return x\n",
        "\n",
        "'''\n",
        "# downsampling module equal to a conv module followed by a max-pool layer\n",
        "'''\n",
        "class down(nn.Module):\n",
        "    def __init__(self, in_ch, out_ch):\n",
        "        super(down, self).__init__()\n",
        "        self.layer = nn.Sequential(\n",
        "            conv(in_ch, out_ch),\n",
        "            conv(out_ch, out_ch),   #Add by FangKK\n",
        "            nn.MaxPool2d(2)\n",
        "            )\n",
        "\n",
        "    def forward(self, x):\n",
        "        x = self.layer(x)\n",
        "        return x\n",
        "\n",
        "'''\n",
        "# upsampling module equal to a upsample function followed by a conv module\n",
        "'''\n",
        "class up(nn.Module):\n",
        "    def __init__(self, in_ch, out_ch, bilinear=False):\n",
        "        super(up, self).__init__()\n",
        "        if bilinear:\n",
        "            self.up = nn.Upsample(scale_factor=2, mode='bilinear', align_corners=True)\n",
        "        else:\n",
        "            self.up = nn.ConvTranspose2d(in_ch, in_ch, 2, stride=2)\n",
        "\n",
        "        self.conv = conv(in_ch, out_ch)\n",
        "        self.BN = nn.BatchNorm2d(out_ch) #Add by FangKK\n",
        "\n",
        "    def forward(self, x):\n",
        "        y = self.up(x)\n",
        "        y = self.conv(y)\n",
        "        y = self.BN(y) #Add by FangKK\n",
        "        return y\n",
        "\n",
        "'''\n",
        "# the main model which you need to complete by using above modules.\n",
        "# you can also modify the above modules in order to improve your results.\n",
        "'''\n",
        "class MyModel(nn.Module):\n",
        "    def __init__(self):\n",
        "        super(MyModel, self).__init__()\n",
        "        \n",
        "        # Encoder\n",
        "        self.input_conv = conv(3, 4)\n",
        "        self.down1 = down(4, 8)\n",
        "        self.down2 = down(8, 16)\n",
        "        self.down3 = down(16, 32)\n",
        "        self.down4 = down(32, 64)\n",
        "        self.down5 = down(64, 128)\n",
        "        self.down6 = down(128, 256)\n",
        "        \n",
        "        # Decoder\n",
        "        self.up1 = up(256, 128)\n",
        "        self.up2 = up(128, 64)\n",
        "        self.up3 = up(64, 32)\n",
        "        self.up4 = up(32, 16)\n",
        "        self.up5 = up(16, 8)\n",
        "        self.up6 = up(8, 4)\n",
        "        #self.up7 = up(8, 4)\n",
        "        self.output_conv = conv(4, 1, False) # ReLu activation is removed to keep the logits for the loss function\n",
        "        \n",
        "    def forward(self, input):\n",
        "      y = self.input_conv(input)\n",
        "      y = self.down1(y)\n",
        "      y = self.down2(y)\n",
        "      y = self.down3(y)\n",
        "      y = self.down4(y)\n",
        "      y = self.down5(y)\n",
        "      y = self.down6(y)\n",
        "      y = self.up1(y)\n",
        "      y = self.up2(y)\n",
        "      y = self.up3(y)\n",
        "      y = self.up4(y)\n",
        "      y = self.up5(y)\n",
        "      y = self.up6(y)\n",
        "      output = self.output_conv(y)\n",
        "      return output"
      ]
    },
    {
      "cell_type": "markdown",
      "metadata": {
        "id": "rQj86vD9QT_Z"
      },
      "source": [
        "### Training"
      ]
    },
    {
      "cell_type": "code",
      "execution_count": null,
      "metadata": {
        "id": "MaZuO4SKSBuF",
        "vscode": {
          "languageId": "python"
        }
      },
      "outputs": [],
      "source": [
        "'''\n",
        "# The following is a basic training procedure to train the network\n",
        "# You need to update the code to get the best performance\n",
        "# TODO: approx ? lines\n",
        "'''\n",
        "\n",
        "# Set the hyperparameters\n",
        "num_epochs = 150\n",
        "batch_size = 4\n",
        "#learning_rate = 0.01\n",
        "#learning_rate = 0.007 ,Mean IoU: 0.8436842446572008 Epoch: 29\n",
        "#learning_rate = 0.0005 ,Mean IoU: 0.7198967454230489, Epoch: 49, Loss: 0.19871610403060913\n",
        "#learning_rate = 0.0005 ,Mean IoU: 0.7669054685873025, Epoch: 79, Loss: 0.17480936646461487\n",
        "#learning_rate = 0.001 ,Mean IoU: 0.8190553504369219, Epoch: 79, Loss: 0.141431525349617\n",
        "#learning_rate = 0.002 ,Mean IoU: 0.8564498716450435, Epoch: 99, Loss: 0.10545563697814941\n",
        "#learning_rate = 0.003 ,Mean IoU: 0.8740110476560341, Epoch: 99, Loss: 0.09390881657600403\n",
        "#learning_rate = 0.003 ,Mean IoU: 0.8916377923312807, Epoch: 149, Loss: 0.08267544955015182\n",
        "learning_rate = 0.003\n",
        "weight_decay = 1e-5\n",
        "\n",
        "model = MyModel() # initialize the model\n",
        "model = model.cuda() # move the model to GPU\n",
        "loader, _ = get_plane_dataset('train', batch_size) # initialize data_loader\n",
        "crit = nn.BCEWithLogitsLoss() # Define the loss function\n",
        "optim = torch.optim.SGD(model.parameters(), lr=learning_rate, weight_decay=weight_decay) # Initialize the optimizer as SGD\n",
        "\n",
        "# start the training procedure\n",
        "for epoch in range(num_epochs):\n",
        "  total_loss = 0\n",
        "  for (img, mask) in tqdm(loader):\n",
        "    img = torch.tensor(img, device=torch.device('cuda'), requires_grad = True)\n",
        "    mask = torch.tensor(mask, device=torch.device('cuda'), requires_grad = True)\n",
        "    pred = model(img)\n",
        "    loss = crit(pred, mask)\n",
        "    optim.zero_grad()\n",
        "    loss.backward()\n",
        "    optim.step()\n",
        "    total_loss += loss.cpu().data\n",
        "  print(\"Epoch: {}, Loss: {}\".format(epoch, total_loss/len(loader)))\n",
        "  torch.save(model.state_dict(), '{}/output/{}_segmentation_model.pth'.format(BASE_DIR, epoch))\n",
        "\n",
        "'''\n",
        "# Saving the final model\n",
        "'''\n",
        "torch.save(model.state_dict(), '{}/output/final_segmentation_model.pth'.format(BASE_DIR))\n"
      ]
    },
    {
      "cell_type": "markdown",
      "metadata": {
        "id": "0dyez1fyQYw7"
      },
      "source": [
        "### Evaluation and Visualization"
      ]
    },
    {
      "cell_type": "code",
      "execution_count": null,
      "metadata": {
        "id": "TDeViryUSCL2",
        "vscode": {
          "languageId": "python"
        }
      },
      "outputs": [],
      "source": [
        "'''\n",
        "# Before starting the evaluation, you need to set the model mode to eval\n",
        "# You may load the trained model again, in case if you want to continue your code later\n",
        "# TODO: approx 15 lines\n",
        "'''\n",
        "batch_size = 8\n",
        "model = MyModel().cuda()\n",
        "model.load_state_dict(torch.load('{}/output/final_segmentation_model.pth'.format(BASE_DIR)))\n",
        "model = model.eval() # chaning the model to evaluation mode will fix the bachnorm layers\n",
        "loader, dataset = get_plane_dataset('train', batch_size)\n",
        "\n",
        "def sigmoid(x):\n",
        "  return 1 / (1 + np.exp(-x))\n",
        "\n",
        "count = 0\n",
        "total_iou = 0\n",
        "\n",
        "origImg_list=[]\n",
        "predic_mask_list=[]\n",
        "grdTrue_mask_list=[]\n",
        "\n",
        "for (img, mask) in tqdm(loader):\n",
        "  with torch.no_grad():\n",
        "    img = img.cuda()\n",
        "    mask = mask.cuda()\n",
        "    mask = torch.unsqueeze(mask,1)\n",
        "    pred = model(img)\n",
        "    new_batch_size = pred.shape[0]\n",
        "    '''\n",
        "    ## Complete the code by obtaining the IoU for each img and print the final Mean IoU\n",
        "    '''\n",
        "    #pred.shape: torch.Size([batch_size, 1, 128, 128])\n",
        "    #mask.shape: torch.Size([batch_size, 1, 1,  128, 128])\n",
        "    #img.shape: torch.Size([batch_size, 3, 128, 128])\n",
        "    \n",
        "    for i in range(new_batch_size):\n",
        "      count = count +1\n",
        "\n",
        "      origImg = img[i].cpu()\n",
        "      origImg = transforms.ToPILImage()(origImg)\n",
        "      origImg = np.array(origImg)\n",
        "      origImg_list.append(origImg)\n",
        "\n",
        "      predic_mask = pred[i][0].cpu()\n",
        "      predic_mask = np.array(predic_mask)\n",
        "      predic_mask = sigmoid(predic_mask)\n",
        "      predic_mask = np.rint(predic_mask)\n",
        "      predic_mask_list.append(predic_mask)\n",
        "\n",
        "\n",
        "      grdTreu_mask = mask[i][0][0].cpu()\n",
        "      grdTreu_mask = grdTreu_mask.numpy()\n",
        "      grdTrue_mask_list.append(grdTreu_mask)\n",
        "\n",
        "\n",
        "      mask_intersection = predic_mask*grdTreu_mask\n",
        "      mask_union = predic_mask+grdTreu_mask\n",
        "      mask_intersection_count = np.count_nonzero(mask_intersection)\n",
        "      mask_union_count =np.count_nonzero(mask_union)\n",
        "      if mask_union_count != 0:\n",
        "        total_iou = total_iou + (mask_intersection_count/mask_union_count)\n",
        "      else:\n",
        "        total_iou = total_iou + 0\n",
        "\n",
        "print(\"\\n #images: {}, Mean IoU: {}\".format(count, total_iou/count))\n"
      ]
    },
    {
      "cell_type": "code",
      "execution_count": null,
      "metadata": {
        "id": "jbmTj9JICiKz",
        "vscode": {
          "languageId": "python"
        }
      },
      "outputs": [],
      "source": [
        "'''\n",
        "# Visualize 3 sample outputs\n",
        "# TODO: approx 5 lines\n",
        "'''\n",
        "import matplotlib.pyplot as plt\n",
        "num = 3\n",
        "for i in range(num):\n",
        "  idxEnd = len(origImg_list)-1\n",
        "  idx = random.randint(0,idxEnd)\n",
        "  cv2_imshow(origImg_list[idx])\n",
        "  cv2_imshow(predic_mask_list[idx]*255)\n",
        "  cv2_imshow(grdTrue_mask_list[idx]*255)\n"
      ]
    },
    {
      "cell_type": "markdown",
      "metadata": {
        "id": "navoiGdrqaZT"
      },
      "source": [
        "## Part 3: Instance Segmentation\n",
        "\n",
        "In this part, you need to obtain the instance segmentation results for the test data by using the trained segmentation model in the previous part and the detection model in Part 1."
      ]
    },
    {
      "cell_type": "markdown",
      "metadata": {
        "id": "vBwk33DGBowP"
      },
      "source": [
        "### Get Prediction"
      ]
    },
    {
      "cell_type": "code",
      "execution_count": null,
      "metadata": {
        "id": "crrZ8TG-Ot2J",
        "vscode": {
          "languageId": "python"
        }
      },
      "outputs": [],
      "source": [
        "'''\n",
        "# Define a new function to obtain the prediction mask by passing a sample data\n",
        "# For this part, you need to use all the previous parts (predictor, get_instance_sample, data preprocessings, etc)\n",
        "# It is better to keep everything (as well as the output of this funcion) on gpu as tensors to speed up the operations.\n",
        "# pred_mask is the instance segmentation result and should have different values for different planes.\n",
        "# TODO: approx 35 lines\n",
        "'''\n",
        "model = MyModel().cuda()\n",
        "model.load_state_dict(torch.load('{}/output/final_segmentation_model.pth'.format(BASE_DIR)))\n",
        "model = model.eval() # chaning the model to evaluation mode will fix the bachnorm layers\n",
        "\n",
        "not_use_seg = False\n",
        "\n",
        "def sigmoid(x):\n",
        "  return 1 / (1 + np.exp(-x))\n",
        "\n",
        "def get_prediction_mask(data,setType):\n",
        "  #data is \"plane_train\"[i]\n",
        "  #data['image_id']= P0000\n",
        "  img_height = data['height']\n",
        "  img_width = data['width']\n",
        "  segmentation_total = []\n",
        "  pred_mask= np.zeros((img_height, img_width))\n",
        "  gt_mask= np.zeros((img_height, img_width))\n",
        "  img = cv2.imread(data[\"file_name\"])\n",
        "\n",
        "  if (setType == 'train') and (not_use_seg == False):\n",
        "    intensity = int(200/len(data[\"annotations\"]))\n",
        "    #gt_mask:\n",
        "    #get the segmentation of all plane\n",
        "    for idx in range(len(data[\"annotations\"])):\n",
        "      segmentation = []\n",
        "      segmentation.append(data[\"annotations\"][idx][\"segmentation\"][0])\n",
        "      #print(segmentation)\n",
        "      temp_gt_mask = detectron2.utils.visualizer.GenericMask(segmentation,img_height,img_width).mask\n",
        "      temp_gt_mask = temp_gt_mask * intensity*(idx+1)\n",
        "      temp_gt_mask[temp_gt_mask!=0] += 50\n",
        "      gt_mask = np.maximum(temp_gt_mask,gt_mask)\n",
        "    #get the gt_mask\n",
        "    #gt_mask = detectron2.utils.visualizer.GenericMask(segmentation_total,img_height,imh_width).mask\n",
        "    #print(gt_mask.shape)\n",
        "    gt_mask = torch.tensor(gt_mask, device=torch.device('cuda'))\n",
        "    # for tfData in trainFixedData:\n",
        "    #   if (tfData[\"file_name\"] == data[\"file_name\"]):\n",
        "    #   break\n",
        "\n",
        "    #pred_mask:\n",
        "    for idx in range(len(data[\"annotations\"])):\n",
        "      box_x1,box_y1,box_width,box_high =[int(num) for num in data[\"annotations\"][idx][\"bbox\"]]\n",
        "      # box_x1,box_y1: Top Left\n",
        "      # box_x2,box_y2: Bottom right\n",
        "      box_x2 = box_x1 + box_width\n",
        "      box_y2 = box_y1 + box_high\n",
        "\n",
        "      obj_img = img[box_y1:box_y2, box_x1:box_x2]\n",
        "      obj_img = cv2.resize(obj_img,(128,128),interpolation = cv2.INTER_AREA)\n",
        "      obj_img = torch.tensor(transforms.ToTensor()(obj_img), device=torch.device('cuda'))\n",
        "      pred_obj_img_mask = model(torch.unsqueeze(obj_img,0))\n",
        "      #print(pred_obj_img_mask)\n",
        "      #print(pred_obj_img_mask.shape)\n",
        "      pred_obj_img_mask = pred_obj_img_mask.cpu()\n",
        "      #print(pred_obj_img_mask)\n",
        "      pred_obj_img_mask = pred_obj_img_mask.detach().numpy()[0][0]\n",
        "      #print(pred_obj_img_mask.shape)\n",
        "      #print(pred_obj_img_mask)\n",
        "      pred_obj_img_mask = cv2.resize(pred_obj_img_mask,(box_width,box_high),interpolation = cv2.INTER_AREA)\n",
        "      #print(pred_obj_img_mask)\n",
        "      pred_obj_img_mask = sigmoid(pred_obj_img_mask)\n",
        "      pred_obj_img_mask = np.rint(pred_obj_img_mask)\n",
        "      pred_obj_img_mask = pred_obj_img_mask * intensity*(idx+1)\n",
        "      pred_obj_img_mask[pred_obj_img_mask!=0] += 50\n",
        "      #print(pred_obj_img_mask)\n",
        "      tempMap = pred_mask[box_y1:box_y2,box_x1:box_x2]\n",
        "      tempMap = np.maximum(tempMap,pred_obj_img_mask)\n",
        "      pred_mask[box_y1:box_y2,box_x1:box_x2] = tempMap\n",
        "    pred_mask = torch.tensor(pred_mask, device=torch.device('cuda'))\n",
        "  else:\n",
        "    \n",
        "    #Use part1 get bbox:\n",
        "    pred_outputs = predictor(img)\n",
        "    #print(pred_outputs)\n",
        "    bboxs = pred_outputs[\"instances\"]\n",
        "    bbox_list = []\n",
        "    #print(len(bbox_list))\n",
        "    if len(bboxs) != 0:\n",
        "      intensity = int(200/len(bboxs))\n",
        "    else:\n",
        "      pred_mask = torch.tensor(pred_mask, device=torch.device('cuda'))\n",
        "      gt_mask = torch.tensor(gt_mask, device=torch.device('cuda'))\n",
        "      return img, gt_mask, pred_mask\n",
        "\n",
        "    for i in range(len(bboxs)):\n",
        "      bbox = bboxs[i].pred_boxes\n",
        "      bbox = bbox.tensor[0].cpu()\n",
        "      x1,y1,x2,y2 = bbox\n",
        "      box_x1 = int(x1)\n",
        "      box_y1 = int(y1)\n",
        "      box_x2 = int(x2)\n",
        "      box_y2 = int(y2)\n",
        "      box_width = box_x2 - box_x1\n",
        "      box_high = box_y2 - box_y1\n",
        "    # intensity = int(200/len(data[\"annotations\"]))\n",
        "      obj_img = img[box_y1:box_y2, box_x1:box_x2]\n",
        "      obj_img = cv2.resize(obj_img,(128,128),interpolation = cv2.INTER_AREA)\n",
        "      obj_img = torch.tensor(transforms.ToTensor()(obj_img), device=torch.device('cuda'))\n",
        "      pred_obj_img_mask = model(torch.unsqueeze(obj_img,0))\n",
        "      pred_obj_img_mask = pred_obj_img_mask.cpu()\n",
        "      pred_obj_img_mask = pred_obj_img_mask.detach().numpy()[0][0]\n",
        "      pred_obj_img_mask = cv2.resize(pred_obj_img_mask,(box_width,box_high),interpolation = cv2.INTER_AREA)\n",
        "      pred_obj_img_mask = sigmoid(pred_obj_img_mask)\n",
        "      pred_obj_img_mask = np.rint(pred_obj_img_mask)\n",
        "      pred_obj_img_mask = pred_obj_img_mask * intensity*(i+1)\n",
        "      pred_obj_img_mask[pred_obj_img_mask!=0] += 50\n",
        "      tempMap = pred_mask[box_y1:box_y2,box_x1:box_x2]\n",
        "      tempMap = np.maximum(tempMap,pred_obj_img_mask)\n",
        "      pred_mask[box_y1:box_y2,box_x1:box_x2] = tempMap\n",
        "    pred_mask = torch.tensor(pred_mask, device=torch.device('cuda'))\n",
        "    gt_mask = torch.tensor(gt_mask, device=torch.device('cuda'))\n",
        "\n",
        "\n",
        "  return img, gt_mask, pred_mask # gt_mask could be all zero when the ground truth is not given.\n"
      ]
    },
    {
      "cell_type": "markdown",
      "metadata": {
        "id": "fc7TSK6EBi9u"
      },
      "source": [
        "### Visualization and Submission"
      ]
    },
    {
      "cell_type": "code",
      "execution_count": null,
      "metadata": {
        "colab": {
          "background_save": true
        },
        "id": "H7T2YX8MBiGO",
        "vscode": {
          "languageId": "python"
        }
      },
      "outputs": [],
      "source": [
        "'''\n",
        "# Visualise the output prediction as well as the GT Mask and Input image for a sample input\n",
        "# TODO: approx 10 lines\n",
        "'''\n",
        "my_data_list_test = DatasetCatalog.get(\"plane_{}\".format('test'))\n"
      ]
    },
    {
      "cell_type": "code",
      "execution_count": null,
      "metadata": {
        "colab": {
          "background_save": true
        },
        "id": "lQ98waOqkdcV",
        "vscode": {
          "languageId": "python"
        }
      },
      "outputs": [],
      "source": [
        "for i in np.random.randint(0,len(my_data_list_test),3):\n",
        "    sample = my_data_list_test[i]\n",
        "    sample['image_id'] = sample['file_name'].split(\"/\")[-1][:-4]\n",
        "    img, true_mask, pred_mask = get_prediction_mask(sample,'test')\n",
        "    cv2_imshow((img))\n",
        "    #cv2_imshow((true_mask.cpu().numpy()))\n",
        "    cv2_imshow((pred_mask.cpu().numpy()))"
      ]
    },
    {
      "cell_type": "code",
      "execution_count": null,
      "metadata": {
        "id": "uPo_03up-g_f",
        "vscode": {
          "languageId": "python"
        }
      },
      "outputs": [],
      "source": [
        "'''\n",
        "# ref: https://www.kaggle.com/rakhlin/fast-run-length-encoding-python\n",
        "# https://www.kaggle.com/c/airbus-ship-detection/overview/evaluation\n",
        "'''\n",
        "def rle_encoding(x):\n",
        "    '''\n",
        "    x: pytorch tensor on gpu, 1 - mask, 0 - background\n",
        "    Returns run length as list\n",
        "    '''\n",
        "    dots = torch.where(torch.flatten(x.long())==1)[0]\n",
        "    if(len(dots)==0):\n",
        "      return []\n",
        "    inds = torch.where(dots[1:]!=dots[:-1]+1)[0]+1\n",
        "    inds = torch.cat((torch.tensor([0], device=torch.device('cuda'), dtype=torch.long), inds))\n",
        "    tmpdots = dots[inds]\n",
        "    inds = torch.cat((inds, torch.tensor([len(dots)], device=torch.device('cuda'))))\n",
        "    inds = inds[1:] - inds[:-1]\n",
        "    runs = torch.cat((tmpdots, inds)).reshape((2,-1))\n",
        "    runs = torch.flatten(torch.transpose(runs, 0, 1)).cpu().data.numpy()\n",
        "    return ' '.join([str(i) for i in runs])"
      ]
    },
    {
      "cell_type": "code",
      "execution_count": null,
      "metadata": {
        "id": "zv0rab2LJev-",
        "vscode": {
          "languageId": "python"
        }
      },
      "outputs": [],
      "source": [
        "'''\n",
        "# You need to upload the csv file on kaggle\n",
        "# The speed of your code in the previous parts highly affects the running time of this part\n",
        "'''\n",
        "\n",
        "preddic = {\"ImageId\": [], \"EncodedPixels\": []}\n",
        "\n",
        "'''\n",
        "# Writing the predictions of the training set\n",
        "'''\n",
        "my_data_list = DatasetCatalog.get(\"plane_{}\".format('train'))\n",
        "for i in tqdm(range(len(my_data_list)), position=0, leave=True):\n",
        "  sample = my_data_list[i]\n",
        "  sample['image_id'] = sample['file_name'].split(\"/\")[-1][:-4]\n",
        "  img, true_mask, pred_mask = get_prediction_mask(sample,'train')\n",
        "  inds = torch.unique(pred_mask)\n",
        "  if(len(inds)==1):\n",
        "    preddic['ImageId'].append(sample['image_id'])\n",
        "    preddic['EncodedPixels'].append([])\n",
        "  else:\n",
        "    for index in inds:\n",
        "      if(index == 0):\n",
        "        continue\n",
        "      tmp_mask = (pred_mask==index)\n",
        "      encPix = rle_encoding(tmp_mask)\n",
        "      preddic['ImageId'].append(sample['image_id'])\n",
        "      preddic['EncodedPixels'].append(encPix)\n",
        "\n",
        "'''\n",
        "# Writing the predictions of the test set\n",
        "'''\n",
        "\n",
        "my_data_list = DatasetCatalog.get(\"plane_{}\".format('test'))\n",
        "for i in tqdm(range(len(my_data_list)), position=0, leave=True):\n",
        "  sample = my_data_list[i]\n",
        "  sample['image_id'] = sample['file_name'].split(\"/\")[-1][:-4]\n",
        "  img, true_mask, pred_mask = get_prediction_mask(sample,'test')\n",
        "  inds = torch.unique(pred_mask)\n",
        "  if(len(inds)==1):\n",
        "    preddic['ImageId'].append(sample['image_id'])\n",
        "    preddic['EncodedPixels'].append([])\n",
        "  else:\n",
        "    for j, index in enumerate(inds):\n",
        "      if(index == 0):\n",
        "        continue\n",
        "      tmp_mask = (pred_mask==index).double()\n",
        "      encPix = rle_encoding(tmp_mask)\n",
        "      preddic['ImageId'].append(sample['image_id'])\n",
        "      preddic['EncodedPixels'].append(encPix)\n",
        "\n",
        "pred_file = open(\"{}/pred.csv\".format(BASE_DIR), 'w')\n",
        "pd.DataFrame(preddic).to_csv(pred_file, index=False)\n",
        "pred_file.close()\n"
      ]
    },
    {
      "cell_type": "markdown",
      "metadata": {
        "id": "p7nN4SduqrpI"
      },
      "source": [
        "## Part 4: Mask R-CNN\n",
        "\n",
        "For this part you need to follow a same procedure to part 2 with the configs of Mask R-CNN, other parts are generally the same as part 2."
      ]
    },
    {
      "cell_type": "markdown",
      "metadata": {
        "id": "axWf7drKNXYd"
      },
      "source": [
        "### Data Loader"
      ]
    },
    {
      "cell_type": "code",
      "execution_count": null,
      "metadata": {
        "id": "yC1FDCcQN2LH",
        "vscode": {
          "languageId": "python"
        }
      },
      "outputs": [],
      "source": [
        "#Run the Data Loader from part1 !!!"
      ]
    },
    {
      "cell_type": "markdown",
      "metadata": {
        "id": "lG5slAhQNjE7"
      },
      "source": [
        "### Network"
      ]
    },
    {
      "cell_type": "code",
      "execution_count": null,
      "metadata": {
        "id": "KG1pnKLMOcjS",
        "vscode": {
          "languageId": "python"
        }
      },
      "outputs": [],
      "source": [
        "cfg = get_cfg()\n",
        "cfg.OUTPUT_DIR = \"{}/output/\".format(BASE_DIR)\n",
        "\n",
        "##############################Reference of below code from:#########################################################\n",
        "##########https://colab.research.google.com/drive/16jcaJoc6bCFAQ96jDe2HwtXj7BMD_-m5#scrollTo=7unkuuiqLdqd ############# \n",
        "cfg.merge_from_file(model_zoo.get_config_file(\"COCO-InstanceSegmentation/mask_rcnn_R_50_FPN_3x.yaml\"))\n",
        "cfg.DATASETS.TRAIN = (\"plane_train\",)\n",
        "cfg.DATASETS.TEST = ()\n",
        "cfg.DATALOADER.NUM_WORKERS = 2\n",
        "cfg.MODEL.WEIGHTS = model_zoo.get_checkpoint_url(\"COCO-InstanceSegmentation/mask_rcnn_R_50_FPN_3x.yaml\")  # Let training initialize from model zoo\n",
        "cfg.SOLVER.IMS_PER_BATCH = 2  # batch size\n",
        "cfg.SOLVER.BASE_LR = 0.0003  # LR\n",
        "cfg.SOLVER.MAX_ITER = 3000\n",
        "cfg.MODEL.ROI_HEADS.BATCH_SIZE_PER_IMAGE = 512   \n",
        "cfg.MODEL.ROI_HEADS.NUM_CLASSES = 1  # only have plane\n"
      ]
    },
    {
      "cell_type": "markdown",
      "metadata": {
        "id": "t7ifeV1sNvtt"
      },
      "source": [
        "### Training"
      ]
    },
    {
      "cell_type": "code",
      "execution_count": null,
      "metadata": {
        "id": "tc4K0Nz5OeKk",
        "vscode": {
          "languageId": "python"
        }
      },
      "outputs": [],
      "source": [
        "os.makedirs(cfg.OUTPUT_DIR, exist_ok=True)\n",
        "trainer = DefaultTrainer(cfg) \n",
        "trainer.resume_or_load(resume=False)\n",
        "trainer.train()\n"
      ]
    },
    {
      "cell_type": "markdown",
      "metadata": {
        "id": "298QruFnNxyn"
      },
      "source": [
        "### Evaluation and Visualization"
      ]
    },
    {
      "cell_type": "code",
      "execution_count": null,
      "metadata": {
        "id": "KcGwV5-9Oetp",
        "vscode": {
          "languageId": "python"
        }
      },
      "outputs": [],
      "source": [
        "'''\n",
        "# After training the model, you need to update cfg.MODEL.WEIGHTS\n",
        "# Define a DefaultPredictor\n",
        "'''\n",
        "##############################Reference of below code from:#########################################################\n",
        "##########https://colab.research.google.com/drive/16jcaJoc6bCFAQ96jDe2HwtXj7BMD_-m5#scrollTo=7unkuuiqLdqd ############# \n",
        "cfg.MODEL.WEIGHTS = os.path.join(cfg.OUTPUT_DIR, \"model_final.pth\")  # path to the model we just trained\n",
        "cfg.MODEL.ROI_HEADS.SCORE_THRESH_TEST = 0.6   # set a custom testing threshold\n",
        "predictor = DefaultPredictor(cfg)"
      ]
    },
    {
      "cell_type": "code",
      "execution_count": null,
      "metadata": {
        "id": "l_3wS2BFLLGp",
        "vscode": {
          "languageId": "python"
        }
      },
      "outputs": [],
      "source": [
        "'''\n",
        "# Visualize the output for 3 random test samples\n",
        "# TODO: approx 10 lines\n",
        "'''\n",
        "\n",
        "from detectron2.utils.visualizer import ColorMode\n",
        "dataset_dicts = get_detection_data(\"test\")\n",
        "for d in random.sample(dataset_dicts, 3):    \n",
        "    im = cv2.imread(d[\"file_name\"])\n",
        "    outputs = predictor(im)  # format is documented at https://detectron2.readthedocs.io/tutorials/models.html#model-output-format\n",
        "    v = Visualizer(im[:, :, ::-1],\n",
        "                   metadata=plane_metadata, \n",
        "                   scale=0.3, \n",
        "                   instance_mode=ColorMode.IMAGE_BW   # remove the colors of unsegmented pixels. This option is only available for segmentation models\n",
        "    )\n",
        "    out = v.draw_instance_predictions(outputs[\"instances\"].to(\"cpu\"))\n",
        "    cv2_imshow(out.get_image()[:, :, ::-1])"
      ]
    },
    {
      "cell_type": "code",
      "execution_count": null,
      "metadata": {
        "id": "t8gKRBZRphg-",
        "vscode": {
          "languageId": "python"
        }
      },
      "outputs": [],
      "source": [
        "from detectron2.evaluation import COCOEvaluator, inference_on_dataset\n",
        "from detectron2.data import build_detection_test_loader\n",
        "#evaluator = COCOEvaluator(\"plane_val\", (\"bbox\",\"segm\"),output_dir=\"{}/output/\".format(BASE_DIR))\n",
        "evaluator = COCOEvaluator(\"plane_train\", cfg,False,output_dir=\"{}/output/\".format(BASE_DIR))\n",
        "val_loader = build_detection_test_loader(cfg, \"plane_train\")\n",
        "print(inference_on_dataset(trainer.model, val_loader, evaluator))"
      ]
    }
  ],
  "metadata": {
    "accelerator": "GPU",
    "colab": {
      "provenance": []
    },
    "kernelspec": {
      "display_name": "Python 3",
      "name": "python3"
    }
  },
  "nbformat": 4,
  "nbformat_minor": 0
}
